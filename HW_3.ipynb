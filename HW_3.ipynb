{
  "nbformat": 4,
  "nbformat_minor": 0,
  "metadata": {
    "colab": {
      "provenance": [],
      "collapsed_sections": [],
      "authorship_tag": "ABX9TyPg62biTi38lhi9OAiqjOWh",
      "include_colab_link": true
    },
    "kernelspec": {
      "name": "python3",
      "display_name": "Python 3"
    },
    "language_info": {
      "name": "python"
    }
  },
  "cells": [
    {
      "cell_type": "markdown",
      "metadata": {
        "id": "view-in-github",
        "colab_type": "text"
      },
      "source": [
        "<a href=\"https://colab.research.google.com/github/Swagaat/Hw-3/blob/main/HW_3.ipynb\" target=\"_parent\"><img src=\"https://colab.research.google.com/assets/colab-badge.svg\" alt=\"Open In Colab\"/></a>"
      ]
    },
    {
      "cell_type": "code",
      "execution_count": 2,
      "metadata": {
        "id": "qWhkCGesDzYu",
        "colab": {
          "base_uri": "https://localhost:8080/"
        },
        "outputId": "b52c9674-a5b6-40d8-b945-37c9800af2a3"
      },
      "outputs": [
        {
          "output_type": "stream",
          "name": "stdout",
          "text": [
            "Please type number: 10\n",
            "2.718281828\n"
          ]
        }
      ],
      "source": [
        "import decimal\n",
        "\n",
        "def factorial(n):\n",
        "    factorials = [1]\n",
        "    for i in range(1, n + 1):\n",
        "        factorials.append(factorials[i - 1] * i)\n",
        "    return factorials\n",
        "\n",
        "def approx(n):\n",
        "    e = 2\n",
        "    factorials = factorial(2 * n + 1)\n",
        "    for i in range(1, n + 1):\n",
        "        counter = 2 * i + 2\n",
        "        denominator = factorials[2 * i + 1]\n",
        "        e += decimal.Decimal(counter / denominator)\n",
        "    return e\n",
        "\n",
        "while True:\n",
        "    n = int(input(\"Please type number: \"))\n",
        "    if n <= 10000:\n",
        "        break\n",
        "\n",
        "print(str(approx(n))[:n + 1])"
      ]
    },
    {
      "cell_type": "code",
      "source": [
        "import math\n",
        "def perfect_sq():\n",
        "   ar = [49, 8, 2, 1, 102]\n",
        "   p = [i for i in ar if (math.sqrt(i) == math.floor(math.sqrt(i)))]\n",
        "   print(\"The elements that were perfect squares from the above list are :: \", p )\n",
        "  \n",
        "perfect_sq()"
      ],
      "metadata": {
        "id": "gWaGiQSWEXnW"
      },
      "execution_count": null,
      "outputs": []
    },
    {
      "cell_type": "code",
      "source": [
        "def add_this_many(x, el, lst):\n",
        "    count = 0\n",
        "    for e in lst:\n",
        "        if e == x:\n",
        "            count += 1\n",
        "        print(count)\n",
        "    while count > 0:\n",
        "        lst.append(el)\n",
        "        count -= 1\n",
        "    print(lst)\n",
        "add_this_many (1,5,[1,2,4,2,1])\n"
      ],
      "metadata": {
        "id": "9v3VZb7VFTir",
        "colab": {
          "base_uri": "https://localhost:8080/"
        },
        "outputId": "566a2432-6d97-434b-dd84-461319dca791"
      },
      "execution_count": 4,
      "outputs": [
        {
          "output_type": "stream",
          "name": "stdout",
          "text": [
            "1\n",
            "1\n",
            "1\n",
            "1\n",
            "2\n",
            "[1, 2, 4, 2, 1, 5, 5]\n"
          ]
        }
      ]
    }
  ]
}