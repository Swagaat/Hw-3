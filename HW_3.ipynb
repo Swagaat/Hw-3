{
  "nbformat": 4,
  "nbformat_minor": 0,
  "metadata": {
    "colab": {
      "provenance": [],
      "authorship_tag": "ABX9TyN6sbwKlUypQ2eeBwftT6J+",
      "include_colab_link": true
    },
    "kernelspec": {
      "name": "python3",
      "display_name": "Python 3"
    },
    "language_info": {
      "name": "python"
    }
  },
  "cells": [
    {
      "cell_type": "markdown",
      "metadata": {
        "id": "view-in-github",
        "colab_type": "text"
      },
      "source": [
        "<a href=\"https://colab.research.google.com/github/Swagaat/Hw-3/blob/main/HW_3.ipynb\" target=\"_parent\"><img src=\"https://colab.research.google.com/assets/colab-badge.svg\" alt=\"Open In Colab\"/></a>"
      ]
    },
    {
      "cell_type": "code",
      "execution_count": null,
      "metadata": {
        "id": "qWhkCGesDzYu"
      },
      "outputs": [],
      "source": [
        "def fact(n):\n",
        "  res=1\n",
        "  for i in range(1, n+1):\n",
        "    res=res*i\n",
        "  return res\n",
        "print(fact(3))\n",
        "def approx_e(iter):\n",
        "  lst=[]\n",
        "  for i in range(0, iter):\n",
        "    if i==0:\n",
        "      lst.append(1)\n",
        "      continue\n",
        "    lst.append(1/fact(i))\n",
        "    print(lst)\n",
        "    result=sum(lst)\n",
        "  print(sum(lst))\n",
        "approx_e(10)"
      ]
    },
    {
      "cell_type": "code",
      "source": [
        "import math\n",
        "def perfect_sq():\n",
        "   ar = [49, 8, 2, 1, 102]\n",
        "   print(\"The original list is :: \", ar)\n",
        "   p = [i for i in ar if (math.sqrt(i) == math.floor(math.sqrt(i)))]\n",
        "   print(\"The elements that were perfect squares from the above list are :: \", p )\n",
        "  \n",
        "perfect_sq()"
      ],
      "metadata": {
        "id": "gWaGiQSWEXnW"
      },
      "execution_count": null,
      "outputs": []
    },
    {
      "cell_type": "code",
      "source": [
        "def add_this_many(x,el,lst):\n",
        " rep=0\n",
        " for i in lst:\n",
        "  if x==i:\n",
        "   rep +=1\n",
        "  print(rep)\n",
        " for i in range(rep):\n",
        "  lst.append(el)\n",
        " return lst\n",
        "add_this_many(1,5,[2,4,2,1,1,1])\n"
      ],
      "metadata": {
        "id": "9v3VZb7VFTir"
      },
      "execution_count": null,
      "outputs": []
    }
  ]
}