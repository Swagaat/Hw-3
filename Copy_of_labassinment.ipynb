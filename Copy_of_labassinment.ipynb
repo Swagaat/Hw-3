{
  "nbformat": 4,
  "nbformat_minor": 0,
  "metadata": {
    "colab": {
      "provenance": [],
      "authorship_tag": "ABX9TyP2rUwvEBOnQ5Jj2mYopBS5",
      "include_colab_link": true
    },
    "kernelspec": {
      "name": "python3",
      "display_name": "Python 3"
    },
    "language_info": {
      "name": "python"
    }
  },
  "cells": [
    {
      "cell_type": "markdown",
      "metadata": {
        "id": "view-in-github",
        "colab_type": "text"
      },
      "source": [
        "<a href=\"https://colab.research.google.com/github/Swagaat/Hw-3/blob/main/Copy_of_labassinment.ipynb\" target=\"_parent\"><img src=\"https://colab.research.google.com/assets/colab-badge.svg\" alt=\"Open In Colab\"/></a>"
      ]
    },
    {
      "cell_type": "code",
      "execution_count": null,
      "metadata": {
        "id": "h0UsvVf0CGj6"
      },
      "outputs": [],
      "source": [
        "\n",
        "def is_equal(a,b,c):\n",
        "  if (a!=c and b!=c):\n",
        "    return a==b\n",
        "  elif(b!=c and a!=b):\n",
        "    return a==c \n",
        "  if (a!=c and b!=a):\n",
        "    return b==c\n",
        "  else:\n",
        "    return False \n",
        "\n",
        "print(is_equal(1,2,3))\n",
        "print(is_equal(1,2,1))\n",
        "print(is_equal(1,1,1))\n",
        "print(is_equal(5,-1,-1))\n",
        "print(is_equal(0,0,-1))\n",
        "print(is_equal(0,0,0))"
      ]
    },
    {
      "cell_type": "code",
      "source": [
        "def diff(x,y,z):\n",
        "  if (x-y==z or y-x==z):\n",
        "    return x-z!=y or z-x!=y\n",
        "  elif (x-z==y or z-x==y):\n",
        "    return x-y!=z or y-x!=z\n",
        "  elif (z-y==x or y-z==x):\n",
        "    return x-y!=z or y-x!=z\n",
        "  else:\n",
        "    return False \n",
        "  \n",
        "print(diff(5,3,2))\n",
        "print(diff(2,3,5))\n",
        "print(diff(2,5,3))\n",
        "print(diff(-2,3,5))\n",
        "print(diff(-5,-3,-2))\n",
        "print(diff(-2,3,-5))\n",
        "print(diff(2,3,-5))\n",
        "print(diff(10,6,4))\n",
        "print(diff(10,6,3))\n"
      ],
      "metadata": {
        "id": "pWyEN_9jKfFy"
      },
      "execution_count": null,
      "outputs": []
    },
    {
      "cell_type": "code",
      "source": [
        "def is_factor(a,b):\n",
        "  while(a!=0 and b!=0):\n",
        "    if ( a%b==0 or b%a==0):\n",
        "      return True\n",
        "    elif(a==0 and b==0):\n",
        "      return False\n",
        "    else:\n",
        "      return False\n",
        "\n",
        "print(is_factor(3,6))\n",
        "print(is_factor(4,10))\n",
        "print(is_factor(0,5))\n",
        "print(is_factor(0,0))\n",
        "\n"
      ],
      "metadata": {
        "id": "iQex97OFS7Ha",
        "outputId": "d1e8b3ab-dcad-4e20-9c5e-0fe0dc75c870",
        "colab": {
          "base_uri": "https://localhost:8080/"
        }
      },
      "execution_count": null,
      "outputs": [
        {
          "output_type": "stream",
          "name": "stdout",
          "text": [
            "True\n",
            "False\n",
            "None\n",
            "None\n"
          ]
        }
      ]
    },
    {
      "cell_type": "code",
      "source": [
        "def factors(n):\n",
        "  if (n>0):\n",
        "    for i in range(n,0,-1):\n",
        "      if (n%i==0):\n",
        "        print(i)\n",
        "        \n",
        "  else:\n",
        "    print(\"not factor\")\n",
        "\n",
        "factors(7)\n",
        "factors(12)"
      ],
      "metadata": {
        "id": "x1ryYtylVOea"
      },
      "execution_count": null,
      "outputs": []
    },
    {
      "cell_type": "code",
      "source": [
        "def largest_factor(n):\n",
        "  if(n>1):\n",
        "    for i in range(n-1,0,-1):\n",
        "      if (n%i==0):\n",
        "        print(i)\n",
        "        break\n",
        "    \n",
        "    else:\n",
        "      print('invalid')\n",
        "\n",
        "largest_factor(15)\n",
        "largest_factor(80)"
      ],
      "metadata": {
        "colab": {
          "base_uri": "https://localhost:8080/"
        },
        "id": "0wcw6eSCVQIJ",
        "outputId": "69c71124-7fab-48b1-e49c-142082e292a9"
      },
      "execution_count": null,
      "outputs": [
        {
          "output_type": "stream",
          "name": "stdout",
          "text": [
            "5\n",
            "40\n"
          ]
        }
      ]
    }
  ]
}